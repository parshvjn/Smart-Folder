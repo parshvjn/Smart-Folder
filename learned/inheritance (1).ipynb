{
 "cells": [
  {
   "cell_type": "markdown",
   "id": "333ffcd8",
   "metadata": {},
   "source": [
    "\n",
    "# single inheritence"
   ]
  },
  {
   "cell_type": "code",
   "execution_count": 1,
   "id": "c10a3662",
   "metadata": {},
   "outputs": [],
   "source": [
    "class parents:\n",
    "    def display(self):\n",
    "        print('INSIDE CLASS PARENTS')"
   ]
  },
  {
   "cell_type": "code",
   "execution_count": 2,
   "id": "2bd15a3a",
   "metadata": {},
   "outputs": [],
   "source": [
    "class child(parents):\n",
    "    def display_child(self):\n",
    "        print('INSIDE CHILD')"
   ]
  },
  {
   "cell_type": "code",
   "execution_count": null,
   "id": "b8d1b2fb",
   "metadata": {},
   "outputs": [],
   "source": []
  },
  {
   "cell_type": "code",
   "execution_count": 4,
   "id": "a1602b29",
   "metadata": {},
   "outputs": [
    {
     "name": "stdout",
     "output_type": "stream",
     "text": [
      "INSIDE CLASS PARENTS\n",
      "INSIDE CHILD\n"
     ]
    }
   ],
   "source": [
    "c=child()\n",
    "c.display() # inheritance of class parents\n",
    "c.display_child()\n"
   ]
  },
  {
   "cell_type": "markdown",
   "id": "2e7db416",
   "metadata": {},
   "source": [
    "## MULTILEVEL INHERITANCE"
   ]
  },
  {
   "cell_type": "code",
   "execution_count": 11,
   "id": "94824887",
   "metadata": {},
   "outputs": [],
   "source": [
    "class apple: # level 0\n",
    "    def company_info(parsh):\n",
    "        return('Founder : steve jobs ,\\nfounded : 1990')\n",
    "class apple_products(apple): #level 1 \n",
    "    def display_specs(parsh):\n",
    "        return('Displays available : TFT DISPLAY, HDR Display, AMOLED Display')\n",
    "class ipad(apple_products):\n",
    "    def ipad_specs(parsh):\n",
    "        comp_info = apple_products.company_info(parsh)\n",
    "        disp_info = apple_products.display_specs(parsh)\n",
    "        sensors = {'processor': 'M1',\n",
    "                  'RAM': '16GB'}\n",
    "        print(comp_info,'\\n',disp_info,'\\n',sensors)\n",
    "        \n",
    "        \n",
    "       \n",
    "        \n",
    "        \n",
    "    "
   ]
  },
  {
   "cell_type": "code",
   "execution_count": 12,
   "id": "33c055ad",
   "metadata": {},
   "outputs": [
    {
     "name": "stdout",
     "output_type": "stream",
     "text": [
      "Founder : steve jobs ,\n",
      "founded : 1990 \n",
      " Displays available : TFT DISPLAY, HDR Display, AMOLED Display \n",
      " {'processor': 'M1', 'RAM': '16GB'}\n"
     ]
    }
   ],
   "source": [
    "ip=ipad()\n",
    "ip.ipad_specs()"
   ]
  },
  {
   "cell_type": "markdown",
   "id": "dc4c6d2d",
   "metadata": {},
   "source": [
    "## SUPER()"
   ]
  },
  {
   "cell_type": "code",
   "execution_count": 47,
   "id": "5be33baa",
   "metadata": {},
   "outputs": [],
   "source": [
    "class computer:\n",
    "    def display(self,number):\n",
    "        self.screen_name = 'LG'\n",
    "        return (number**number)\n",
    "class screen(computer):\n",
    "    \"\"\"this is a child class\"\"\"\n",
    "    def display(self,number_1):\n",
    "        power=super().display(number_1)\n",
    "        self.screen_name = 'samsung'\n",
    "        print(number_1,power)\n",
    "        \n",
    "        "
   ]
  },
  {
   "cell_type": "code",
   "execution_count": 48,
   "id": "1a998dfa",
   "metadata": {},
   "outputs": [
    {
     "name": "stdout",
     "output_type": "stream",
     "text": [
      "2 4\n"
     ]
    }
   ],
   "source": [
    "sc= screen()\n",
    "sc.display(2)"
   ]
  },
  {
   "cell_type": "code",
   "execution_count": 30,
   "id": "9c3364f7",
   "metadata": {},
   "outputs": [
    {
     "data": {
      "text/plain": [
       "{'screen_name': ' samsung'}"
      ]
     },
     "execution_count": 30,
     "metadata": {},
     "output_type": "execute_result"
    }
   ],
   "source": [
    "sc.__dict__"
   ]
  },
  {
   "cell_type": "code",
   "execution_count": 15,
   "id": "9e7c7ae0",
   "metadata": {},
   "outputs": [
    {
     "data": {
      "text/plain": [
       "__main__.screen"
      ]
     },
     "execution_count": 15,
     "metadata": {},
     "output_type": "execute_result"
    }
   ],
   "source": [
    "sc.__class__"
   ]
  },
  {
   "cell_type": "code",
   "execution_count": 16,
   "id": "9d47a9d8",
   "metadata": {},
   "outputs": [
    {
     "data": {
      "text/plain": [
       "'this is a child class'"
      ]
     },
     "execution_count": 16,
     "metadata": {},
     "output_type": "execute_result"
    }
   ],
   "source": [
    "sc.__doc__"
   ]
  },
  {
   "cell_type": "code",
   "execution_count": 27,
   "id": "6e1bdd46",
   "metadata": {},
   "outputs": [
    {
     "data": {
      "text/plain": [
       "'__main__'"
      ]
     },
     "execution_count": 27,
     "metadata": {},
     "output_type": "execute_result"
    }
   ],
   "source": [
    "sc.__"
   ]
  },
  {
   "cell_type": "markdown",
   "id": "4345453a",
   "metadata": {},
   "source": [
    "# MULTIPLE INHERITANCE"
   ]
  },
  {
   "cell_type": "code",
   "execution_count": 94,
   "id": "61b92013",
   "metadata": {},
   "outputs": [],
   "source": [
    "class father:\n",
    "    def father_traits(self):\n",
    "        self.trait= 'TRAITS FROM FATHER'\n",
    "        return self.trait\n",
    "        \n",
    "class mother:\n",
    "    def mother_traits(self):\n",
    "        self.trait= 'TRAITS FROM MOTHER'\n",
    "        return self.trait\n",
    "        \n",
    "class parsh(mother,father): # inheriting more than 1 parent class\n",
    "    def own_traits(self):\n",
    "        self.trait = super().father_traits()\n",
    "        print(self.trait)\n",
    "        self.trait = super().mother_traits()\n",
    "        print(self.trait)\n",
    "        self.trait = 'My own traits'\n",
    "        print(self.trait)\n",
    "        "
   ]
  },
  {
   "cell_type": "code",
   "execution_count": 95,
   "id": "5f9f82f4",
   "metadata": {},
   "outputs": [],
   "source": [
    "obj = parsh()"
   ]
  },
  {
   "cell_type": "code",
   "execution_count": 96,
   "id": "47a5e644",
   "metadata": {},
   "outputs": [
    {
     "name": "stdout",
     "output_type": "stream",
     "text": [
      "TRAITS FROM FATHER\n",
      "TRAITS FROM MOTHER\n",
      "My own traits\n"
     ]
    }
   ],
   "source": [
    "obj.own_traits()"
   ]
  },
  {
   "cell_type": "code",
   "execution_count": 98,
   "id": "7c8c2dbe",
   "metadata": {},
   "outputs": [
    {
     "data": {
      "text/plain": [
       "{'trait': 'My own traits'}"
      ]
     },
     "execution_count": 98,
     "metadata": {},
     "output_type": "execute_result"
    }
   ],
   "source": [
    "obj.__dict__"
   ]
  },
  {
   "cell_type": "markdown",
   "id": "f6734771",
   "metadata": {},
   "source": [
    "### EXAMPLE 2"
   ]
  },
  {
   "cell_type": "code",
   "execution_count": 48,
   "id": "94bd00ac",
   "metadata": {},
   "outputs": [],
   "source": [
    "\n",
    "\n",
    "class country:\n",
    "    def __init__(self):\n",
    "        self.first_order = 'COUNTRY FIRST'\n",
    "        return self.first_order\n",
    "        \n",
    "class state:\n",
    "    def __init__(self):\n",
    "        self.first_order = 'state FIRST' \n",
    "        return self.first_order\n",
    "\n",
    "class township(state,country):\n",
    "    def __init__(self):\n",
    "        super().__init__()\n",
    "#         self.first_order = 'TOWN FIRST' "
   ]
  },
  {
   "cell_type": "code",
   "execution_count": 49,
   "id": "83fe6559",
   "metadata": {},
   "outputs": [],
   "source": [
    "tw = township()"
   ]
  },
  {
   "cell_type": "code",
   "execution_count": 50,
   "id": "14aebbab",
   "metadata": {},
   "outputs": [
    {
     "data": {
      "text/plain": [
       "{'first_order': 'state FIRST'}"
      ]
     },
     "execution_count": 50,
     "metadata": {},
     "output_type": "execute_result"
    }
   ],
   "source": [
    "tw.__dict__"
   ]
  },
  {
   "cell_type": "code",
   "execution_count": null,
   "id": "d7bc4fc5",
   "metadata": {},
   "outputs": [],
   "source": []
  },
  {
   "cell_type": "code",
   "execution_count": null,
   "id": "5b91a3e3",
   "metadata": {},
   "outputs": [],
   "source": []
  }
 ],
 "metadata": {
  "kernelspec": {
   "display_name": "Python 3 (ipykernel)",
   "language": "python",
   "name": "python3"
  },
  "language_info": {
   "codemirror_mode": {
    "name": "ipython",
    "version": 3
   },
   "file_extension": ".py",
   "mimetype": "text/x-python",
   "name": "python",
   "nbconvert_exporter": "python",
   "pygments_lexer": "ipython3",
   "version": "3.9.10"
  }
 },
 "nbformat": 4,
 "nbformat_minor": 5
}
